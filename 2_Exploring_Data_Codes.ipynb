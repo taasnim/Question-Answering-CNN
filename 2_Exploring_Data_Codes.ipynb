{
 "cells": [
  {
   "cell_type": "markdown",
   "metadata": {},
   "source": [
    "# Data Exploration"
   ]
  },
  {
   "cell_type": "code",
   "execution_count": 1,
   "metadata": {},
   "outputs": [],
   "source": [
    "#Importing necessary libraries\n",
    "\n",
    "import numpy as np\n",
    "import statistics as st\n",
    "import glob\n",
    "import os\n",
    "import sys\n",
    "import io\n",
    "\n",
    "import zipfile\n",
    "import tarfile\n",
    "import gzip\n",
    "import logging\n",
    "from collections import Counter\n",
    "\n",
    "import matplotlib\n",
    "import matplotlib.pyplot as plt"
   ]
  },
  {
   "cell_type": "code",
   "execution_count": 2,
   "metadata": {},
   "outputs": [],
   "source": [
    "#Function to load data\n",
    "\n",
    "def load_data(in_file, max_example=None, relabeling=True):\n",
    "    \n",
    "\n",
    "    documents = []\n",
    "    questions = []\n",
    "    answers = []\n",
    "    num_examples = 0\n",
    "    f = open(in_file, 'r', encoding='utf-8')\n",
    "    while True:\n",
    "        line = f.readline()\n",
    "        if not line:\n",
    "            break\n",
    "        question = line.strip().lower()\n",
    "        answer = f.readline().strip()\n",
    "        document = f.readline().strip().lower()\n",
    "\n",
    "        if relabeling:\n",
    "            q_words = question.split(' ')\n",
    "            d_words = document.split(' ')\n",
    "            assert answer in d_words\n",
    "\n",
    "            entity_dict = {}\n",
    "            entity_id = 0\n",
    "            for word in d_words + q_words:\n",
    "                if (word.startswith('@entity')) and (word not in entity_dict):\n",
    "                    entity_dict[word] = '@entity' + str(entity_id)\n",
    "                    entity_id += 1\n",
    "\n",
    "            q_words = [entity_dict[w] if w in entity_dict else w for w in q_words]\n",
    "            d_words = [entity_dict[w] if w in entity_dict else w for w in d_words]\n",
    "            answer = entity_dict[answer]\n",
    "\n",
    "            question = ' '.join(q_words)\n",
    "            document = ' '.join(d_words)\n",
    "\n",
    "        questions.append(question)\n",
    "        answers.append(answer)\n",
    "        documents.append(document)\n",
    "        num_examples += 1\n",
    "\n",
    "        f.readline()\n",
    "        if (max_example is not None) and (num_examples >= max_example):\n",
    "            break\n",
    "    f.close()\n",
    "    #logging.info('#Examples: %d' % len(documents))\n",
    "    print('#Examples: %d' % len(documents))\n",
    "    return (documents, questions, answers)"
   ]
  },
  {
   "cell_type": "code",
   "execution_count": 3,
   "metadata": {},
   "outputs": [],
   "source": [
    "#Function to build dictionaries for analysis\n",
    "\n",
    "def build_dict_1(sentences, max_words=120000):\n",
    "    \"\"\"\n",
    "        Build a dictionary for the words in `sentences`.\n",
    "        Only the max_words ones are kept and the remaining will be mapped to <UNK>.\n",
    "    \"\"\"\n",
    "    \n",
    "    Total_wrds = 0\n",
    "    \n",
    "    word_count = Counter()\n",
    "    #doc_wc = Counter()\n",
    "    #doc_ec = Counter()\n",
    "    for ix, sent in enumerate(sentences):\n",
    "        for w in sent.split(' '):\n",
    "            #doc_ec[ix] += 1\n",
    "            #doc_wc[ix] += 1\n",
    "            Total_wrds += 1\n",
    "            word_count[w] += 1\n",
    "            \n",
    "    print(\"Total no of words = \", Total_wrds)\n",
    "\n",
    "    ls = word_count.most_common(max_words)\n",
    "    print('#Words: %d -> %d' % (len(word_count), len(ls)))\n",
    "    print(\"The words occuring with highest frequencies \\n\")\n",
    "    for key in ls[:20]:\n",
    "        print(key)\n",
    "    print('...')\n",
    "    print(\"The words occuring with lowest frequencies \\n\")\n",
    "    for key in ls[-20:]:\n",
    "        print(key)\n",
    "\n",
    "    # leave 0 to UNK\n",
    "    # leave 1 to delimiter |||\n",
    "    \n",
    "    vocab_dict = {w[0]: index for (index, w) in enumerate(ls)}\n",
    "    \n",
    "    \n",
    "    return vocab_dict, Total_wrds"
   ]
  },
  {
   "cell_type": "code",
   "execution_count": 4,
   "metadata": {},
   "outputs": [],
   "source": [
    "#Function to vectorize the tokenized data for analysis\n",
    "\n",
    "def vectorize(examples, word_dict, entity_dict):\n",
    "    \"\"\"\n",
    "        Vectorize `examples`.\n",
    "        in_x1, in_x2: sequences for document and question respecitvely.\n",
    "        in_y: label\n",
    "        in_l: whether the entity label occurs in the document.\n",
    "    \n",
    "    \"\"\"\n",
    "    in_x1 = []\n",
    "    in_x2 = []\n",
    "    in_y = []\n",
    "    in_y_1 = []\n",
    "    \n",
    "    max_d = 0\n",
    "    max_q = 0\n",
    "    \n",
    "    \n",
    "    for idx, (d, q, a) in enumerate(zip(examples[0], examples[1], examples[2])):\n",
    "        d_words = d.split(' ')\n",
    "        q_words = q.split(' ')\n",
    "        assert (a in d_words)\n",
    "        seq1 = [word_dict[w] if w in word_dict else 0 for w in d_words]\n",
    "        seq2 = [word_dict[w] if w in word_dict else 0 for w in q_words]\n",
    "        \n",
    "        if max_d < len(seq1):\n",
    "            max_d = len(seq1)\n",
    "        if max_q < len(seq2):\n",
    "            max_q = len(seq2)\n",
    "        \n",
    "        if (len(seq1) > 0) and (len(seq2) > 0):\n",
    "            in_x1.append(seq1)\n",
    "            in_x2.append(seq2)\n",
    "            in_y.append(entity_dict[a] if a in entity_dict else 0)  #answer entities w.r.t to entity_dict\n",
    "            in_y_1.append(word_dict[a] if a in word_dict else 0) #answer entities w.r.t to word_dict\n",
    "            \n",
    "        if (idx % 10000 == 0):\n",
    "            print('Vectorization: processed %d / %d' % (idx, len(examples[0])))\n",
    "\n",
    "\n",
    "    \n",
    "\n",
    "    return in_x1, in_x2, in_y, in_y_1, max_d, max_q"
   ]
  },
  {
   "cell_type": "code",
   "execution_count": 5,
   "metadata": {},
   "outputs": [],
   "source": [
    "#Function to generate details for the analysis of statistics of documents\n",
    "\n",
    "def docs_stats(doc_s, ans, exps):\n",
    "    \n",
    "    #index -> document number\n",
    "    doc_lengths = []\n",
    "    no_entities = []\n",
    "    ans_1st_loc = []\n",
    "    count_ans = []\n",
    "    ans_locs = []\n",
    "    \n",
    "    for i, an in enumerate(ans):\n",
    "        \n",
    "        \n",
    "        doc_lengths.append(len(doc_s[i]))\n",
    "        \n",
    "        ans_1st_loc.append(doc_s[i].index(an))\n",
    "        \n",
    "        loc_wrds =[]\n",
    "        \n",
    "        for j, wrd in enumerate(doc_s[i]):\n",
    "            \n",
    "            if wrd == an:\n",
    "                loc_wrds.append(j)\n",
    "        \n",
    "        entities_c = 0\n",
    "                         \n",
    "        for ws in exps[i].split(' '):\n",
    "            \n",
    "            if ws.startswith('@entity'):\n",
    "                entities_c += 1\n",
    "        \n",
    "        \n",
    "        \n",
    "        no_entities.append(entities_c)\n",
    "        \n",
    "        count_ans.append(len(loc_wrds))\n",
    "        \n",
    "        ans_locs.append(loc_wrds)\n",
    "        \n",
    "        \n",
    "        \n",
    "    return doc_lengths, no_entities, ans_1st_loc, count_ans, ans_locs"
   ]
  },
  {
   "cell_type": "code",
   "execution_count": 6,
   "metadata": {},
   "outputs": [],
   "source": [
    "#Function to generate details for the analysis of statistics of questions\n",
    "\n",
    "def ques_stats(que_s, exps):\n",
    "    \n",
    "    #index -> question number\n",
    "    que_lengths = []\n",
    "    no_entities = []\n",
    "    \n",
    "    for i in range(len(que_s)):\n",
    "        \n",
    "        que_lengths.append(len(que_s[i]))\n",
    "        \n",
    "        entities_c = 0\n",
    "        \n",
    "        for ws in exps[i].split(' '):\n",
    "            if ws.startswith('@entity'):\n",
    "                entities_c += 1\n",
    "                \n",
    "        \n",
    "        no_entities.append(entities_c)\n",
    "        \n",
    "        \n",
    "        \n",
    "    return que_lengths, no_entities"
   ]
  },
  {
   "cell_type": "code",
   "execution_count": 7,
   "metadata": {},
   "outputs": [],
   "source": [
    "#Function to generate the range\n",
    "\n",
    "def max_min(paras):    \n",
    "    \n",
    "    \n",
    "    max_length = 0\n",
    "    min_length = 10000000000\n",
    "\n",
    "    for i in range (len(paras)):\n",
    "    \n",
    "\n",
    "        if (max_length < paras[i]):\n",
    "            max_length = paras[i]\n",
    "            \n",
    "        \n",
    "        if (min_length > paras[i]):\n",
    "            min_length = paras[i]\n",
    "            \n",
    "   \n",
    "    return max_length, min_length"
   ]
  },
  {
   "cell_type": "markdown",
   "metadata": {},
   "source": [
    "### Download the CNN Dataset:\n",
    "\n",
    "Our CNN dataset's default directory is `./data/cnn/`. There are three files: `train.txt`, `test.txt`, and `dev.txt`.\n",
    "The following function checks whether the CNN dataset is in the default directory or not. If not, then it will download the dataset from [here](http://cs.stanford.edu/~danqi/data/cnn.tar.gz) and extract it to the default directory."
   ]
  },
  {
   "cell_type": "code",
   "execution_count": null,
   "metadata": {},
   "outputs": [],
   "source": [
    "def check_CNN_dataset_exists(path_data='./data/'):\n",
    "    flag_train_data = os.path.isfile(path_data + 'cnn/train.txt')  \n",
    "    flag_test_data = os.path.isfile(path_data + 'cnn/test.txt') \n",
    "    flag_dev_data = os.path.isfile(path_data + 'cnn/dev.txt') \n",
    "    if flag_train_data==False or flag_test_data==False or flag_dev_data==False:\n",
    "        print('CNN dataset missing - downloading...')\n",
    "        if not os.path.exists(path_data):\n",
    "            os.makedirs(path_data)\n",
    "        url = \"http://cs.stanford.edu/~danqi/data/cnn.tar.gz\"\n",
    "        os.system('wget http://cs.stanford.edu/~danqi/data/cnn.tar.gz -P ./data/')\n",
    "        tar = tarfile.open('./data/cnn.tar.gz', \"r:gz\")\n",
    "        tar.extractall('./data/')\n",
    "        tar.close()\n",
    "    else:\n",
    "        print(\"CNN dataset is already there!\")\n",
    "        \n",
    "\n",
    "check_CNN_dataset_exists()"
   ]
  },
  {
   "cell_type": "code",
   "execution_count": 8,
   "metadata": {},
   "outputs": [
    {
     "name": "stdout",
     "output_type": "stream",
     "text": [
      "#Examples: 380298\n",
      "#Examples: 3924\n",
      "#Examples: 3198\n"
     ]
    }
   ],
   "source": [
    "#Loading all data\n",
    "\n",
    "\n",
    "fin_train = \"./data/cnn/train.txt\" #path of the training data text file.\n",
    "fin_dev = \"./data/cnn/dev.txt\"     #path of the validation data text file.\n",
    "fin_test = \"./data/cnn/test.txt\"   #path of the testing data text file.\n",
    "\n",
    "train_exps = load_data(fin_train, relabeling=True)\n",
    "dev_exps = load_data(fin_dev, relabeling=True)\n",
    "test_exps = load_data(fin_test, relabeling=True)"
   ]
  },
  {
   "cell_type": "markdown",
   "metadata": {},
   "source": [
    "# Analysis of training data"
   ]
  },
  {
   "cell_type": "code",
   "execution_count": 9,
   "metadata": {
    "scrolled": true
   },
   "outputs": [
    {
     "name": "stdout",
     "output_type": "stream",
     "text": [
      "Total no of words =  294458658\n",
      "#Words: 118432 -> 118432\n",
      "The words occuring with highest frequencies \n",
      "\n",
      "('the', 15383021)\n",
      "(',', 13757778)\n",
      "('.', 11782121)\n",
      "('to', 7208903)\n",
      "('\"', 6967510)\n",
      "('of', 6176653)\n",
      "('and', 6157410)\n",
      "('a', 6108894)\n",
      "('in', 5784281)\n",
      "(\"'s\", 3323130)\n",
      "('that', 2955242)\n",
      "('for', 2377320)\n",
      "('is', 2304007)\n",
      "('@entity1', 2218582)\n",
      "('-', 2217557)\n",
      "('on', 2126318)\n",
      "('it', 2050882)\n",
      "('said', 2043159)\n",
      "('was', 1997226)\n",
      "('@entity2', 1956108)\n",
      "...\n",
      "The words occuring with lowest frequencies \n",
      "\n",
      "('seseparateampaigns', 1)\n",
      "('yorkshire', 1)\n",
      "('issa', 1)\n",
      "('unseats', 1)\n",
      "('catalo', 1)\n",
      "('625k', 1)\n",
      "('fretboard', 1)\n",
      "('ex-illinois', 1)\n",
      "('harding', 1)\n",
      "('slavers', 1)\n",
      "('reapplies', 1)\n",
      "('ponting', 1)\n",
      "('post-fdr', 1)\n",
      "('theratens', 1)\n",
      "('ex-mississippi', 1)\n",
      "('slingers', 1)\n",
      "('multi-planet', 1)\n",
      "('johnstons', 1)\n",
      "('shir', 1)\n",
      "('khurma', 1)\n"
     ]
    }
   ],
   "source": [
    "#generating of word dictionary and entity dictionary to analyse training data\n",
    "\n",
    "word_dict_1, total_1 = build_dict_1(train_exps[0] + train_exps[1])\n",
    "entity_markers = list(set([w for w in word_dict_1.keys() if w.startswith('@entity')] + train_exps[2]))\n",
    "entity_dict = {w: index for (index, w) in enumerate(entity_markers)}"
   ]
  },
  {
   "cell_type": "code",
   "execution_count": 10,
   "metadata": {
    "scrolled": true
   },
   "outputs": [
    {
     "name": "stdout",
     "output_type": "stream",
     "text": [
      "Vectorization: processed 0 / 380298\n",
      "Vectorization: processed 10000 / 380298\n",
      "Vectorization: processed 20000 / 380298\n",
      "Vectorization: processed 30000 / 380298\n",
      "Vectorization: processed 40000 / 380298\n",
      "Vectorization: processed 50000 / 380298\n",
      "Vectorization: processed 60000 / 380298\n",
      "Vectorization: processed 70000 / 380298\n",
      "Vectorization: processed 80000 / 380298\n",
      "Vectorization: processed 90000 / 380298\n",
      "Vectorization: processed 100000 / 380298\n",
      "Vectorization: processed 110000 / 380298\n",
      "Vectorization: processed 120000 / 380298\n",
      "Vectorization: processed 130000 / 380298\n",
      "Vectorization: processed 140000 / 380298\n",
      "Vectorization: processed 150000 / 380298\n",
      "Vectorization: processed 160000 / 380298\n",
      "Vectorization: processed 170000 / 380298\n",
      "Vectorization: processed 180000 / 380298\n",
      "Vectorization: processed 190000 / 380298\n",
      "Vectorization: processed 200000 / 380298\n",
      "Vectorization: processed 210000 / 380298\n",
      "Vectorization: processed 220000 / 380298\n",
      "Vectorization: processed 230000 / 380298\n",
      "Vectorization: processed 240000 / 380298\n",
      "Vectorization: processed 250000 / 380298\n",
      "Vectorization: processed 260000 / 380298\n",
      "Vectorization: processed 270000 / 380298\n",
      "Vectorization: processed 280000 / 380298\n",
      "Vectorization: processed 290000 / 380298\n",
      "Vectorization: processed 300000 / 380298\n",
      "Vectorization: processed 310000 / 380298\n",
      "Vectorization: processed 320000 / 380298\n",
      "Vectorization: processed 330000 / 380298\n",
      "Vectorization: processed 340000 / 380298\n",
      "Vectorization: processed 350000 / 380298\n",
      "Vectorization: processed 360000 / 380298\n",
      "Vectorization: processed 370000 / 380298\n",
      "Vectorization: processed 380000 / 380298\n"
     ]
    }
   ],
   "source": [
    "#Vectorization of training data for analysis\n",
    "\n",
    "trn_x1, trn_x2, trn_y, trn_y_1, max_d, max_q = vectorize(train_exps, word_dict_1, entity_dict)"
   ]
  },
  {
   "cell_type": "code",
   "execution_count": 11,
   "metadata": {},
   "outputs": [],
   "source": [
    "#Generating details to analyse statistics of training documents\n",
    "\n",
    "document_lengths, doc_entity_numbers, answer_1st_loc, no_answers, answer_locs = docs_stats(trn_x1, trn_y_1, train_exps[0])\n",
    "\n"
   ]
  },
  {
   "cell_type": "code",
   "execution_count": 12,
   "metadata": {},
   "outputs": [],
   "source": [
    "#Generating details to analyse statistics of training questions\n",
    "\n",
    "ques_lengths, ques_entity_numbers = ques_stats(trn_x2, train_exps[1])\n",
    "\n"
   ]
  },
  {
   "cell_type": "code",
   "execution_count": 13,
   "metadata": {},
   "outputs": [
    {
     "name": "stdout",
     "output_type": "stream",
     "text": [
      "Total number of tokens in training corpus with repititions =  294458658 \n",
      "\n",
      "Total number of token in training corpus without repititions =  118432 \n",
      "\n",
      "Total number of entities in training corpus =  527 \n",
      "\n"
     ]
    }
   ],
   "source": [
    "#Basic details of training corpus\n",
    "\n",
    "print(\"Total number of tokens in training corpus with repititions = \", total_1,\"\\n\")\n",
    "\n",
    "print(\"Total number of token in training corpus without repititions = \", len(word_dict_1),\"\\n\")\n",
    "\n",
    "print(\"Total number of entities in training corpus = \",len(entity_dict),\"\\n\")"
   ]
  },
  {
   "cell_type": "code",
   "execution_count": 33,
   "metadata": {},
   "outputs": [
    {
     "data": {
      "image/png": "[encoded data removed]",
      "text/plain": [
       "<Figure size 432x288 with 1 Axes>"
      ]
     },
     "metadata": {},
     "output_type": "display_data"
    }
   ],
   "source": [
    "# Pie Chart to represent the number of total entities as a percentage of total vocabulary\n",
    "\n",
    "labels = 'Normal_Words', 'Entities'\n",
    "sizes = [(len(word_dict_1)-len(entity_dict)), len(entity_dict)]\n",
    "explode = (0, 0.15)  # only \"explode\" the 2nd slice (i.e. 'Entities')\n",
    "colors = ['green','red']\n",
    "\n",
    "fig, ax = plt.subplots()\n",
    "ax.pie(sizes, explode=explode, labels=labels, colors=colors, autopct='%1.1f%%',\n",
    "        shadow=True, startangle=90)\n",
    "ax.axis('equal')  # Equal aspect ratio ensures that pie is drawn as a circle.\n",
    "ax.set_title(('Total training vocabulary = ' + str(len(word_dict_1))))\n",
    "\n",
    "plt.show()"
   ]
  },
  {
   "cell_type": "code",
   "execution_count": null,
   "metadata": {},
   "outputs": [],
   "source": []
  },
  {
   "cell_type": "code",
   "execution_count": 21,
   "metadata": {},
   "outputs": [
    {
     "data": {
      "image/png": "[encoded data removed]",
      "text/plain": [
       "<Figure size 432x288 with 1 Axes>"
      ]
     },
     "metadata": {},
     "output_type": "display_data"
    }
   ],
   "source": [
    "# Generating histogram for the distribution of number of tokens in training documents\n",
    "\n",
    "fig, ax = plt.subplots()\n",
    "\n",
    "n_bins = 20\n",
    "\n",
    "ax.hist(np.array(document_lengths), n_bins, histtype='bar')\n",
    "ax.set_xlabel('No. of tokens')\n",
    "ax.set_ylabel('No. of documents')\n",
    "ax.set_title('Histogram for the distribution of number of tokens in training documents')\n",
    "\n",
    "fig.tight_layout()\n",
    "plt.show()"
   ]
  },
  {
   "cell_type": "code",
   "execution_count": 22,
   "metadata": {},
   "outputs": [
    {
     "name": "stdout",
     "output_type": "stream",
     "text": [
      "Statistics for the distribution of number of tokens in training documents \n",
      "\n",
      "The range = [ 8  ,  2000 ]\n",
      "The mode =  474\n",
      "The median = 700.0\n",
      "The mean = 761.8135172943323\n"
     ]
    }
   ],
   "source": [
    "#Generating statistics for the distribution of tokens in training documents\n",
    "\n",
    "mode = st.mode(document_lengths)\n",
    "median = st.median(document_lengths)\n",
    "mean = st.mean(document_lengths)\n",
    "\n",
    "max_v, min_v = max_min(document_lengths)\n",
    "\n",
    "\n",
    "print(\"Statistics for the distribution of number of tokens in training documents \\n\")\n",
    "\n",
    "print(\"The range = [\",min_v,\" , \",max_v,\"]\")\n",
    "print(\"The mode = \",mode)\n",
    "print(\"The median =\",median)\n",
    "print(\"The mean =\", mean)"
   ]
  },
  {
   "cell_type": "code",
   "execution_count": 23,
   "metadata": {},
   "outputs": [
    {
     "data": {
      "image/png": "[encoded data removed]",
      "text/plain": [
       "<Figure size 432x288 with 1 Axes>"
      ]
     },
     "metadata": {},
     "output_type": "display_data"
    }
   ],
   "source": [
    "#Generating histogram for the distribution of number of entities in training documents\n",
    "\n",
    "fig, ax = plt.subplots()\n",
    "\n",
    "n_bins = 20\n",
    "\n",
    "ax.hist(np.array(doc_entity_numbers), n_bins, histtype='bar')\n",
    "ax.set_xlabel('No. of entities')\n",
    "ax.set_ylabel('No. of documents')\n",
    "ax.set_title('Histogram for the distribution of number of entities in training documents')\n",
    "\n",
    "fig.tight_layout()\n",
    "plt.show()"
   ]
  },
  {
   "cell_type": "code",
   "execution_count": 24,
   "metadata": {},
   "outputs": [
    {
     "name": "stdout",
     "output_type": "stream",
     "text": [
      "Statistics for the distribution of number of entities in training documents \n",
      "\n",
      "The range = [ 1  ,  745 ]\n",
      "The mode =  34\n",
      "The median = 49.0\n",
      "The mean = 56.09781276788203\n"
     ]
    }
   ],
   "source": [
    "#Generating statistics for the distribution of number of entities in training documents\n",
    "\n",
    "mode = st.mode(doc_entity_numbers)\n",
    "median = st.median(doc_entity_numbers)\n",
    "mean = st.mean(doc_entity_numbers)\n",
    "\n",
    "max_v, min_v = max_min(doc_entity_numbers)\n",
    "\n",
    "\n",
    "print(\"Statistics for the distribution of number of entities in training documents \\n\")\n",
    "\n",
    "print(\"The range = [\",min_v,\" , \",max_v,\"]\")\n",
    "print(\"The mode = \",mode)\n",
    "print(\"The median =\",median)\n",
    "print(\"The mean =\", mean)"
   ]
  },
  {
   "cell_type": "code",
   "execution_count": 25,
   "metadata": {},
   "outputs": [
    {
     "data": {
      "image/png": "[encoded data removed]",
      "text/plain": [
       "<Figure size 432x288 with 1 Axes>"
      ]
     },
     "metadata": {},
     "output_type": "display_data"
    }
   ],
   "source": [
    "#Generating histogram for the distribution of number of occurrences of the answer entity in training documents\n",
    "\n",
    "fig, ax = plt.subplots()\n",
    "\n",
    "n_bins = 20\n",
    "\n",
    "ax.hist(np.array(no_answers), n_bins, histtype='bar')\n",
    "ax.set_xlabel('No. of occurences of ans. entity')\n",
    "ax.set_ylabel('No. of documents')\n",
    "ax.set_title('Histogram for the distribution of no. of occurrences of the ans. entity in trn. docs')\n",
    "\n",
    "fig.tight_layout()\n",
    "plt.show()"
   ]
  },
  {
   "cell_type": "code",
   "execution_count": 26,
   "metadata": {},
   "outputs": [
    {
     "name": "stdout",
     "output_type": "stream",
     "text": [
      "Statistics for the distribution of number of occurrences of the answer entity in training documents \n",
      "\n",
      "The range = [ 1  ,  61 ]\n",
      "The mode =  1\n",
      "The median = 4.0\n",
      "The mean = 6.277198407564594\n"
     ]
    }
   ],
   "source": [
    "#Generating statistics for the distribution of number of occurrences of the answer entity in training documents\n",
    "\n",
    "mode = st.mode(no_answers)\n",
    "median = st.median(no_answers)\n",
    "mean = st.mean(no_answers)\n",
    "\n",
    "max_v, min_v = max_min(no_answers)\n",
    "\n",
    "\n",
    "print(\"Statistics for the distribution of number of occurrences of the answer entity in training documents \\n\")\n",
    "\n",
    "print(\"The range = [\",min_v,\" , \",max_v,\"]\")\n",
    "print(\"The mode = \",mode)\n",
    "print(\"The median =\",median)\n",
    "print(\"The mean =\", mean)"
   ]
  },
  {
   "cell_type": "code",
   "execution_count": 27,
   "metadata": {},
   "outputs": [
    {
     "data": {
      "image/png": "[encoded data removed]",
      "text/plain": [
       "<Figure size 432x288 with 1 Axes>"
      ]
     },
     "metadata": {},
     "output_type": "display_data"
    }
   ],
   "source": [
    "#Generating histogram for the distribution of number of tokens in training questions\n",
    "\n",
    "fig, ax = plt.subplots()\n",
    "\n",
    "n_bins = 20\n",
    "\n",
    "ax.hist(np.array(ques_lengths), n_bins, histtype='bar')\n",
    "ax.set_xlabel('No. of tokens')\n",
    "ax.set_ylabel('No. of questions')\n",
    "ax.set_title('Histogram for the distribution of number of tokens in training questions')\n",
    "\n",
    "fig.tight_layout()\n",
    "plt.show()"
   ]
  },
  {
   "cell_type": "code",
   "execution_count": 28,
   "metadata": {},
   "outputs": [
    {
     "name": "stdout",
     "output_type": "stream",
     "text": [
      "Statistics for the distribution of number of tokens in training questions \n",
      "\n",
      "The range = [ 1  ,  47 ]\n",
      "The mode =  12\n",
      "The median = 12.0\n",
      "The mean = 12.470486302846714\n"
     ]
    }
   ],
   "source": [
    "#Generating statistics for the distribution of number of tokens in training questions\n",
    "\n",
    "mode = st.mode(ques_lengths)\n",
    "median = st.median(ques_lengths)\n",
    "mean = st.mean(ques_lengths)\n",
    "\n",
    "max_v, min_v = max_min(ques_lengths)\n",
    "\n",
    "\n",
    "print(\"Statistics for the distribution of number of tokens in training questions \\n\")\n",
    "\n",
    "print(\"The range = [\",min_v,\" , \",max_v,\"]\")\n",
    "print(\"The mode = \",mode)\n",
    "print(\"The median =\",median)\n",
    "print(\"The mean =\", mean)"
   ]
  },
  {
   "cell_type": "code",
   "execution_count": 34,
   "metadata": {},
   "outputs": [
    {
     "data": {
      "image/png": "[encoded data removed]",
      "text/plain": [
       "<Figure size 432x288 with 1 Axes>"
      ]
     },
     "metadata": {},
     "output_type": "display_data"
    }
   ],
   "source": [
    "#Generating histogram for the distribution of number of entities in training questions\n",
    "\n",
    "fig, ax = plt.subplots()\n",
    "\n",
    "n_bins = 10\n",
    "\n",
    "ax.hist(np.array(ques_entity_numbers), n_bins, histtype='bar')\n",
    "ax.set_xlabel('No. of entities')\n",
    "ax.set_ylabel('No. of questions')\n",
    "ax.set_title('Histogram for the distribution of number of entities in training questions')\n",
    "\n",
    "fig.tight_layout()\n",
    "plt.show()"
   ]
  },
  {
   "cell_type": "code",
   "execution_count": 35,
   "metadata": {},
   "outputs": [
    {
     "name": "stdout",
     "output_type": "stream",
     "text": [
      "Statistics for the distribution of number of entities in training questions \n",
      "\n",
      "The range = [ 0  ,  9 ]\n",
      "The mode =  1\n",
      "The median = 1.0\n",
      "The mean = 1.1156987415132344\n"
     ]
    }
   ],
   "source": [
    "#Generating statistics for the distribution of number of entities in training questions\n",
    "\n",
    "mode = st.mode(ques_entity_numbers)\n",
    "median = st.median(ques_entity_numbers)\n",
    "mean = st.mean(ques_entity_numbers)\n",
    "\n",
    "max_v, min_v = max_min(ques_entity_numbers)\n",
    "\n",
    "\n",
    "print(\"Statistics for the distribution of number of entities in training questions \\n\")\n",
    "\n",
    "print(\"The range = [\",min_v,\" , \",max_v,\"]\")\n",
    "print(\"The mode = \",mode)\n",
    "print(\"The median =\",median)\n",
    "print(\"The mean =\", mean)"
   ]
  },
  {
   "cell_type": "markdown",
   "metadata": {},
   "source": [
    "# Analysis of validation data"
   ]
  },
  {
   "cell_type": "code",
   "execution_count": 36,
   "metadata": {
    "scrolled": true
   },
   "outputs": [
    {
     "name": "stdout",
     "output_type": "stream",
     "text": [
      "Total no of words =  3045165\n",
      "#Words: 24204 -> 24204\n",
      "The words occuring with highest frequencies \n",
      "\n",
      "('the', 156088)\n",
      "(',', 144355)\n",
      "('.', 124209)\n",
      "('\"', 77821)\n",
      "('to', 74478)\n",
      "('a', 65551)\n",
      "('of', 64074)\n",
      "('and', 63741)\n",
      "('in', 60281)\n",
      "(\"'s\", 34998)\n",
      "('that', 31805)\n",
      "('is', 24460)\n",
      "('@entity1', 24273)\n",
      "('for', 23302)\n",
      "('was', 23232)\n",
      "('he', 22355)\n",
      "('on', 22152)\n",
      "('it', 21543)\n",
      "('@entity2', 21316)\n",
      "('said', 19440)\n",
      "...\n",
      "The words occuring with lowest frequencies \n",
      "\n",
      "('decompose', 1)\n",
      "('surfaces', 1)\n",
      "('indulged', 1)\n",
      "('observances', 1)\n",
      "('naga', 1)\n",
      "('illustrator', 1)\n",
      "('no.1', 1)\n",
      "('fulton', 1)\n",
      "('stomping', 1)\n",
      "('fmr', 1)\n",
      "('executes', 1)\n",
      "('exporters', 1)\n",
      "('stats', 1)\n",
      "('exits', 1)\n",
      "('judaism', 1)\n",
      "('de-emphasized', 1)\n",
      "('prioritizing', 1)\n",
      "('pours', 1)\n",
      "('scud', 1)\n",
      "('a-level', 1)\n"
     ]
    }
   ],
   "source": [
    "#generating of word dictionary and entity dictionary to analyse validation data\n",
    "\n",
    "word_dict_2, total_2 = build_dict_1(dev_exps[0] + dev_exps[1])\n",
    "entity_markers_2 = list(set([w for w in word_dict_2.keys() if w.startswith('@entity')] + dev_exps[2]))\n",
    "entity_dict_2 = {w: index for (index, w) in enumerate(entity_markers_2)}"
   ]
  },
  {
   "cell_type": "code",
   "execution_count": 37,
   "metadata": {
    "scrolled": true
   },
   "outputs": [
    {
     "name": "stdout",
     "output_type": "stream",
     "text": [
      "Vectorization: processed 0 / 3924\n"
     ]
    }
   ],
   "source": [
    "#Vectorization of validation data for analysis\n",
    "\n",
    "val_x1, val_x2, val_y, val_y_1, max_d, max_q = vectorize(dev_exps, word_dict_2, entity_dict_2)\n"
   ]
  },
  {
   "cell_type": "code",
   "execution_count": 38,
   "metadata": {},
   "outputs": [],
   "source": [
    "#Generating details to analyse statistics of validation documents\n",
    "\n",
    "document_lengths, doc_entity_numbers, answer_1st_loc, no_answers, answer_locs = docs_stats(val_x1, val_y_1, dev_exps[0])\n"
   ]
  },
  {
   "cell_type": "code",
   "execution_count": 39,
   "metadata": {},
   "outputs": [],
   "source": [
    "\n",
    "#Generating details to analyse statistics of validation questions\n",
    "\n",
    "ques_lengths, ques_entity_numbers = ques_stats(val_x2, dev_exps[1])\n",
    "\n"
   ]
  },
  {
   "cell_type": "code",
   "execution_count": 40,
   "metadata": {},
   "outputs": [
    {
     "name": "stdout",
     "output_type": "stream",
     "text": [
      "Total number of tokens in validation corpus with repititions =  3045165 \n",
      "\n",
      "Total number of token in validation corpus without repititions =  24204 \n",
      "\n",
      "Total number of entities in validation corpus =  187 \n",
      "\n"
     ]
    }
   ],
   "source": [
    "#Basic details of validation corpus\n",
    "\n",
    "print(\"Total number of tokens in validation corpus with repititions = \", total_2, \"\\n\")\n",
    "\n",
    "print(\"Total number of token in validation corpus without repititions = \", len(word_dict_2),\"\\n\")\n",
    "\n",
    "print(\"Total number of entities in validation corpus = \",len(entity_dict_2),\"\\n\")"
   ]
  },
  {
   "cell_type": "code",
   "execution_count": 41,
   "metadata": {},
   "outputs": [
    {
     "data": {
      "image/png": "[encoded data removed]",
      "text/plain": [
       "<Figure size 432x288 with 1 Axes>"
      ]
     },
     "metadata": {},
     "output_type": "display_data"
    }
   ],
   "source": [
    "# Pie Chart to represent the number of total entities as a percentage of total vocabulary\n",
    "\n",
    "labels = 'Normal_Words', 'Entities'\n",
    "sizes = [(len(word_dict_2)-len(entity_dict_2)), len(entity_dict_2)]\n",
    "explode = (0, 0.15)  # only \"explode\" the 2nd slice (i.e. 'Entities')\n",
    "colors = ['green','red']\n",
    "\n",
    "fig, ax = plt.subplots()\n",
    "ax.pie(sizes, explode=explode, labels=labels, colors=colors, autopct='%1.1f%%',\n",
    "        shadow=True, startangle=90)\n",
    "ax.axis('equal')  # Equal aspect ratio ensures that pie is drawn as a circle.\n",
    "ax.set_title(('Total validation vocabulary = ' + str(len(word_dict_1))))\n",
    "\n",
    "plt.show()"
   ]
  },
  {
   "cell_type": "code",
   "execution_count": 42,
   "metadata": {},
   "outputs": [
    {
     "data": {
      "image/png": "[encoded data removed]",
      "text/plain": [
       "<Figure size 432x288 with 1 Axes>"
      ]
     },
     "metadata": {},
     "output_type": "display_data"
    }
   ],
   "source": [
    "# Generating histogram for the distribution of number of tokens in validation documents\n",
    "\n",
    "fig, ax = plt.subplots()\n",
    "\n",
    "n_bins = 20\n",
    "\n",
    "ax.hist(np.array(document_lengths), n_bins, histtype='bar')\n",
    "ax.set_xlabel('No. of tokens')\n",
    "ax.set_ylabel('No. of documents')\n",
    "ax.set_title('Histogram for the distribution of number of tokens in validation documents')\n",
    "\n",
    "fig.tight_layout()\n",
    "plt.show()"
   ]
  },
  {
   "cell_type": "code",
   "execution_count": 43,
   "metadata": {},
   "outputs": [
    {
     "name": "stdout",
     "output_type": "stream",
     "text": [
      "Statistics for the distribution of number of tokens in validation documents \n",
      "\n",
      "The range = [ 94  ,  1989 ]\n",
      "The mode =  1102\n",
      "The median = 710.0\n",
      "The mean = 762.7461773700306\n"
     ]
    }
   ],
   "source": [
    "#Generating statistics for the distribution of tokens in validation documents\n",
    "\n",
    "mode = st.mode(document_lengths)\n",
    "median = st.median(document_lengths)\n",
    "mean = st.mean(document_lengths)\n",
    "\n",
    "max_v, min_v = max_min(document_lengths)\n",
    "\n",
    "\n",
    "print(\"Statistics for the distribution of number of tokens in validation documents \\n\")\n",
    "\n",
    "print(\"The range = [\",min_v,\" , \",max_v,\"]\")\n",
    "print(\"The mode = \",mode)\n",
    "print(\"The median =\",median)\n",
    "print(\"The mean =\", mean)"
   ]
  },
  {
   "cell_type": "code",
   "execution_count": 44,
   "metadata": {},
   "outputs": [
    {
     "data": {
      "image/png": "[encoded data removed]",
      "text/plain": [
       "<Figure size 432x288 with 1 Axes>"
      ]
     },
     "metadata": {},
     "output_type": "display_data"
    }
   ],
   "source": [
    "#Generating histogram for the distribution of number of entities in validation documents\n",
    "\n",
    "fig, ax = plt.subplots()\n",
    "\n",
    "n_bins = 20\n",
    "\n",
    "ax.hist(np.array(doc_entity_numbers), n_bins, histtype='bar')\n",
    "ax.set_xlabel('No. of entities')\n",
    "ax.set_ylabel('No. of documents')\n",
    "ax.set_title('Histogram for the distribution of number of entities in validation documents')\n",
    "\n",
    "fig.tight_layout()\n",
    "plt.show()"
   ]
  },
  {
   "cell_type": "code",
   "execution_count": 45,
   "metadata": {},
   "outputs": [
    {
     "name": "stdout",
     "output_type": "stream",
     "text": [
      "Statistics for the distribution of number of entities in validation documents \n",
      "\n",
      "The range = [ 2  ,  223 ]\n",
      "The mode =  40\n",
      "The median = 48.0\n",
      "The mean = 56.57517838939857\n"
     ]
    }
   ],
   "source": [
    "#Generating statistics for the distribution of number of entities in validation documents\n",
    "\n",
    "mode = st.mode(doc_entity_numbers)\n",
    "median = st.median(doc_entity_numbers)\n",
    "mean = st.mean(doc_entity_numbers)\n",
    "\n",
    "max_v, min_v = max_min(doc_entity_numbers)\n",
    "\n",
    "\n",
    "print(\"Statistics for the distribution of number of entities in validation documents \\n\")\n",
    "\n",
    "print(\"The range = [\",min_v,\" , \",max_v,\"]\")\n",
    "print(\"The mode = \",mode)\n",
    "print(\"The median =\",median)\n",
    "print(\"The mean =\", mean)"
   ]
  },
  {
   "cell_type": "code",
   "execution_count": 46,
   "metadata": {},
   "outputs": [
    {
     "data": {
      "image/png": "[encoded data removed]",
      "text/plain": [
       "<Figure size 432x288 with 1 Axes>"
      ]
     },
     "metadata": {},
     "output_type": "display_data"
    }
   ],
   "source": [
    "#Generating histogram for the distribution of number of occurrences of the answer entity in validation documents\n",
    "\n",
    "fig, ax = plt.subplots()\n",
    "\n",
    "n_bins = 20\n",
    "\n",
    "ax.hist(np.array(no_answers), n_bins, histtype='bar')\n",
    "ax.set_xlabel('No. of occurences of ans. entity')\n",
    "ax.set_ylabel('No. of documents')\n",
    "ax.set_title('Histogram for the distribution of no. of occurrences of the ans. entity in vln. docs')\n",
    "\n",
    "fig.tight_layout()\n",
    "plt.show()"
   ]
  },
  {
   "cell_type": "code",
   "execution_count": 47,
   "metadata": {},
   "outputs": [
    {
     "name": "stdout",
     "output_type": "stream",
     "text": [
      "Statistics for the distribution of number of occurrences of the answer entity in validation documents \n",
      "\n",
      "The range = [ 1  ,  44 ]\n",
      "The mode =  1\n",
      "The median = 4.0\n",
      "The mean = 6.480632008154944\n"
     ]
    }
   ],
   "source": [
    "#Generating statistics for the distribution of number of occurrences of the answer entity in validation documents\n",
    "\n",
    "mode = st.mode(no_answers)\n",
    "median = st.median(no_answers)\n",
    "mean = st.mean(no_answers)\n",
    "\n",
    "max_v, min_v = max_min(no_answers)\n",
    "\n",
    "\n",
    "print(\"Statistics for the distribution of number of occurrences of the answer entity in validation documents \\n\")\n",
    "\n",
    "print(\"The range = [\",min_v,\" , \",max_v,\"]\")\n",
    "print(\"The mode = \",mode)\n",
    "print(\"The median =\",median)\n",
    "print(\"The mean =\", mean)"
   ]
  },
  {
   "cell_type": "code",
   "execution_count": 48,
   "metadata": {},
   "outputs": [
    {
     "data": {
      "image/png": "[encoded data removed]",
      "text/plain": [
       "<Figure size 432x288 with 1 Axes>"
      ]
     },
     "metadata": {},
     "output_type": "display_data"
    }
   ],
   "source": [
    "#Generating histogram for the distribution of number of tokens in validation questions\n",
    "\n",
    "fig, ax = plt.subplots()\n",
    "\n",
    "n_bins = 20\n",
    "\n",
    "ax.hist(np.array(ques_lengths), n_bins, histtype='bar')\n",
    "ax.set_xlabel('No. of tokens')\n",
    "ax.set_ylabel('No. of questions')\n",
    "ax.set_title('Histogram for the distribution of number of tokens in validationg questions')\n",
    "\n",
    "fig.tight_layout()\n",
    "plt.show()"
   ]
  },
  {
   "cell_type": "code",
   "execution_count": 49,
   "metadata": {},
   "outputs": [
    {
     "name": "stdout",
     "output_type": "stream",
     "text": [
      "Statistics for the distribution of number of tokens in validation questions \n",
      "\n",
      "The range = [ 3  ,  37 ]\n",
      "The mode =  12\n",
      "The median = 13.0\n",
      "The mean = 13.289755351681958\n"
     ]
    }
   ],
   "source": [
    "#Generating statistics for the distribution of number of tokens in validation questions\n",
    "\n",
    "mode = st.mode(ques_lengths)\n",
    "median = st.median(ques_lengths)\n",
    "mean = st.mean(ques_lengths)\n",
    "\n",
    "max_v, min_v = max_min(ques_lengths)\n",
    "\n",
    "\n",
    "print(\"Statistics for the distribution of number of tokens in validation questions \\n\")\n",
    "\n",
    "print(\"The range = [\",min_v,\" , \",max_v,\"]\")\n",
    "print(\"The mode = \",mode)\n",
    "print(\"The median =\",median)\n",
    "print(\"The mean =\", mean)"
   ]
  },
  {
   "cell_type": "code",
   "execution_count": 50,
   "metadata": {},
   "outputs": [
    {
     "data": {
      "image/png": "[encoded data removed]",
      "text/plain": [
       "<Figure size 432x288 with 1 Axes>"
      ]
     },
     "metadata": {},
     "output_type": "display_data"
    }
   ],
   "source": [
    "#Generating histogram for the distribution of number of entities in validation questions\n",
    "\n",
    "fig, ax = plt.subplots()\n",
    "\n",
    "n_bins = 10\n",
    "\n",
    "ax.hist(np.array(ques_entity_numbers), n_bins, histtype='bar')\n",
    "ax.set_xlabel('No. of entities')\n",
    "ax.set_ylabel('No. of questions')\n",
    "ax.set_title('Histogram for the distribution of number of entities in validation questions')\n",
    "\n",
    "fig.tight_layout()\n",
    "plt.show()"
   ]
  },
  {
   "cell_type": "code",
   "execution_count": 51,
   "metadata": {},
   "outputs": [
    {
     "name": "stdout",
     "output_type": "stream",
     "text": [
      "Statistics for the distribution of number of entities in validation questions \n",
      "\n",
      "The range = [ 0  ,  8 ]\n",
      "The mode =  1\n",
      "The median = 1.0\n",
      "The mean = 1.2313965341488278\n"
     ]
    }
   ],
   "source": [
    "#Generating statistics for the distribution of number of entities in validation questions\n",
    "\n",
    "mode = st.mode(ques_entity_numbers)\n",
    "median = st.median(ques_entity_numbers)\n",
    "mean = st.mean(ques_entity_numbers)\n",
    "\n",
    "max_v, min_v = max_min(ques_entity_numbers)\n",
    "\n",
    "\n",
    "print(\"Statistics for the distribution of number of entities in validation questions \\n\")\n",
    "\n",
    "print(\"The range = [\",min_v,\" , \",max_v,\"]\")\n",
    "print(\"The mode = \",mode)\n",
    "print(\"The median =\",median)\n",
    "print(\"The mean =\", mean)"
   ]
  },
  {
   "cell_type": "markdown",
   "metadata": {},
   "source": [
    "# Analysis of testing data"
   ]
  },
  {
   "cell_type": "code",
   "execution_count": 52,
   "metadata": {
    "scrolled": true
   },
   "outputs": [
    {
     "name": "stdout",
     "output_type": "stream",
     "text": [
      "Total no of words =  2335076\n",
      "#Words: 23145 -> 23145\n",
      "The words occuring with highest frequencies \n",
      "\n",
      "('the', 121825)\n",
      "(',', 115094)\n",
      "('.', 98196)\n",
      "('\"', 58600)\n",
      "('to', 56728)\n",
      "('and', 50264)\n",
      "('of', 49159)\n",
      "('a', 48850)\n",
      "('in', 45228)\n",
      "(\"'s\", 25555)\n",
      "('that', 24427)\n",
      "('@entity1', 19273)\n",
      "('is', 18912)\n",
      "('for', 17636)\n",
      "('on', 17372)\n",
      "('was', 17284)\n",
      "('it', 16621)\n",
      "('@entity2', 15945)\n",
      "('he', 15416)\n",
      "('said', 15388)\n",
      "...\n",
      "The words occuring with lowest frequencies \n",
      "\n",
      "('ag', 1)\n",
      "('referral', 1)\n",
      "('takeovers', 1)\n",
      "('abated', 1)\n",
      "('bogged', 1)\n",
      "('passable', 1)\n",
      "('sayings', 1)\n",
      "('ensnared', 1)\n",
      "('strewn', 1)\n",
      "('archival', 1)\n",
      "('smearing', 1)\n",
      "('censor', 1)\n",
      "('overturn', 1)\n",
      "('heighten', 1)\n",
      "('insulator', 1)\n",
      "('fostered', 1)\n",
      "('surrenders', 1)\n",
      "('multistate', 1)\n",
      "('airlifting', 1)\n",
      "('racy', 1)\n"
     ]
    }
   ],
   "source": [
    "#generating of word dictionary and entity dictionary to analyse testing data\n",
    "\n",
    "word_dict_3, total_3 = build_dict_1(test_exps[0] + test_exps[1])\n",
    "entity_markers_3 = list(set([w for w in word_dict_3.keys() if w.startswith('@entity')] + test_exps[2]))\n",
    "entity_dict_3 = {w: index for (index, w) in enumerate(entity_markers_3)}"
   ]
  },
  {
   "cell_type": "code",
   "execution_count": 53,
   "metadata": {},
   "outputs": [
    {
     "name": "stdout",
     "output_type": "stream",
     "text": [
      "Vectorization: processed 0 / 3198\n"
     ]
    }
   ],
   "source": [
    "#Vectorization of testing data for analysis\n",
    "\n",
    "tst_x1, tst_x2, tst_y, tst_y_1, max_d, max_q = vectorize(test_exps, word_dict_3, entity_dict_3)"
   ]
  },
  {
   "cell_type": "code",
   "execution_count": 54,
   "metadata": {},
   "outputs": [],
   "source": [
    "#Generating details to analyse statistics of testing documents\n",
    "\n",
    "document_lengths1, doc_entity_numbers, answer_1st_loc, no_answers, answer_locs = docs_stats(tst_x1, tst_y_1, test_exps[0])\n"
   ]
  },
  {
   "cell_type": "code",
   "execution_count": 55,
   "metadata": {},
   "outputs": [],
   "source": [
    "#Generating details to analyse statistics of testing questions\n",
    "\n",
    "ques_lengths, ques_entity_numbers = ques_stats(tst_x2, test_exps[1])\n",
    "\n"
   ]
  },
  {
   "cell_type": "code",
   "execution_count": 56,
   "metadata": {},
   "outputs": [
    {
     "name": "stdout",
     "output_type": "stream",
     "text": [
      "Total number of tokens in testing corpus with repititions =  2335076 \n",
      "\n",
      "Total number of token in testing corpus without repititions =  23145 \n",
      "\n",
      "Total number of entities in testing corpus =  396 \n",
      "\n"
     ]
    }
   ],
   "source": [
    "#Basic details of testing corpus\n",
    "\n",
    "print(\"Total number of tokens in testing corpus with repititions = \", total_3, \"\\n\")\n",
    "\n",
    "print(\"Total number of token in testing corpus without repititions = \", len(word_dict_3),\"\\n\")\n",
    "\n",
    "print(\"Total number of entities in testing corpus = \",len(entity_dict_3),\"\\n\")"
   ]
  },
  {
   "cell_type": "code",
   "execution_count": 68,
   "metadata": {},
   "outputs": [
    {
     "data": {
      "image/png": "[encoded data removed]",
      "text/plain": [
       "<Figure size 432x288 with 1 Axes>"
      ]
     },
     "metadata": {},
     "output_type": "display_data"
    }
   ],
   "source": [
    "# Pie Chart to represent the number of total entities as a percentage of total vocabulary\n",
    "\n",
    "labels = 'Normal_Words', 'Entities'\n",
    "sizes = [(len(word_dict_3)-len(entity_dict_3)), len(entity_dict_3)]\n",
    "explode = (0, 0.15)  # only \"explode\" the 2nd slice (i.e. 'Entities')\n",
    "colors = ['green','red']\n",
    "\n",
    "fig, ax = plt.subplots()\n",
    "ax.pie(sizes, explode=explode, labels=labels, colors=colors, autopct='%1.1f%%',\n",
    "        shadow=True, startangle=90)\n",
    "ax.axis('equal')  # Equal aspect ratio ensures that pie is drawn as a circle.\n",
    "ax.set_title(('Total testing vocabulary = ' + str(len(word_dict_1))))\n",
    "\n",
    "plt.show()"
   ]
  },
  {
   "cell_type": "code",
   "execution_count": 58,
   "metadata": {},
   "outputs": [
    {
     "data": {
      "image/png": "[encoded data removed]",
      "text/plain": [
       "<Figure size 432x288 with 1 Axes>"
      ]
     },
     "metadata": {},
     "output_type": "display_data"
    }
   ],
   "source": [
    "# Generating histogram for the distribution of number of tokens in testing documents\n",
    "\n",
    "fig, ax = plt.subplots()\n",
    "\n",
    "n_bins = 20\n",
    "\n",
    "ax.hist(np.array(document_lengths1), n_bins, histtype='bar')\n",
    "ax.set_xlabel('No. of tokens')\n",
    "ax.set_ylabel('No. of documents')\n",
    "ax.set_title('Histogram for the distribution of number of tokens in testing documents')\n",
    "\n",
    "fig.tight_layout()\n",
    "plt.show()"
   ]
  },
  {
   "cell_type": "code",
   "execution_count": 59,
   "metadata": {},
   "outputs": [
    {
     "name": "stdout",
     "output_type": "stream",
     "text": [
      "Statistics for the distribution of number of tokens in testing documents \n",
      "\n",
      "The range = [ 89  ,  1989 ]\n",
      "The mode =  1095\n",
      "The median = 652.0\n",
      "The mean = 716.442464040025\n"
     ]
    }
   ],
   "source": [
    "#Generating statistics for the distribution of tokens in testing documents\n",
    "\n",
    "mode = st.mode(document_lengths1)\n",
    "median = st.median(document_lengths1)\n",
    "mean = st.mean(document_lengths1)\n",
    "\n",
    "max_v, min_v = max_min(document_lengths1)\n",
    "\n",
    "\n",
    "print(\"Statistics for the distribution of number of tokens in testing documents \\n\")\n",
    "\n",
    "print(\"The range = [\",min_v,\" , \",max_v,\"]\")\n",
    "print(\"The mode = \",mode)\n",
    "print(\"The median =\",median)\n",
    "print(\"The mean =\", mean)"
   ]
  },
  {
   "cell_type": "code",
   "execution_count": 60,
   "metadata": {},
   "outputs": [
    {
     "data": {
      "image/png": "[encoded data removed]",
      "text/plain": [
       "<Figure size 432x288 with 1 Axes>"
      ]
     },
     "metadata": {},
     "output_type": "display_data"
    }
   ],
   "source": [
    "#Generating histogram for the distribution of number of entities in testing documents\n",
    "\n",
    "fig, ax = plt.subplots()\n",
    "\n",
    "n_bins = 20\n",
    "\n",
    "ax.hist(np.array(doc_entity_numbers), n_bins, histtype='bar')\n",
    "ax.set_xlabel('No. of entities')\n",
    "ax.set_ylabel('No. of documents')\n",
    "ax.set_title('Histogram for the distribution of number of entities in testing documents')\n",
    "\n",
    "fig.tight_layout()\n",
    "plt.show()"
   ]
  },
  {
   "cell_type": "code",
   "execution_count": 61,
   "metadata": {},
   "outputs": [
    {
     "name": "stdout",
     "output_type": "stream",
     "text": [
      "Statistics for the distribution of number of entities in testing documents \n",
      "\n",
      "The range = [ 4  ,  584 ]\n",
      "The mode =  31\n",
      "The median = 43.0\n",
      "The mean = 51.515322076297686\n"
     ]
    }
   ],
   "source": [
    "#Generating statistics for the distribution of number of entities in testing documents\n",
    "\n",
    "mode = st.mode(doc_entity_numbers)\n",
    "median = st.median(doc_entity_numbers)\n",
    "mean = st.mean(doc_entity_numbers)\n",
    "\n",
    "max_v, min_v = max_min(doc_entity_numbers)\n",
    "\n",
    "\n",
    "print(\"Statistics for the distribution of number of entities in testing documents \\n\")\n",
    "\n",
    "print(\"The range = [\",min_v,\" , \",max_v,\"]\")\n",
    "print(\"The mode = \",mode)\n",
    "print(\"The median =\",median)\n",
    "print(\"The mean =\", mean)"
   ]
  },
  {
   "cell_type": "code",
   "execution_count": 62,
   "metadata": {},
   "outputs": [
    {
     "data": {
      "image/png": "[encoded data removed]",
      "text/plain": [
       "<Figure size 432x288 with 1 Axes>"
      ]
     },
     "metadata": {},
     "output_type": "display_data"
    }
   ],
   "source": [
    "#Generating histogram for the distribution of number of occurrences of the answer entity in testing documents\n",
    "\n",
    "fig, ax = plt.subplots()\n",
    "\n",
    "n_bins = 20\n",
    "\n",
    "ax.hist(np.array(no_answers), n_bins, histtype='bar')\n",
    "ax.set_xlabel('No. of occurences of ans. entity')\n",
    "ax.set_ylabel('No. of documents')\n",
    "ax.set_title('Histogram for the distribution of no. of occurrences of the ans. entity in tst. docs')\n",
    "\n",
    "fig.tight_layout()\n",
    "plt.show()"
   ]
  },
  {
   "cell_type": "code",
   "execution_count": 63,
   "metadata": {},
   "outputs": [
    {
     "name": "stdout",
     "output_type": "stream",
     "text": [
      "Statistics for the distribution of number of occurrences of the answer entity in testing documents \n",
      "\n",
      "The range = [ 1  ,  47 ]\n",
      "The mode =  1\n",
      "The median = 4.0\n",
      "The mean = 6.363352095059412\n"
     ]
    }
   ],
   "source": [
    "#Generating statistics for the distribution of number of occurrences of the answer entity in testing documents\n",
    "\n",
    "mode = st.mode(no_answers)\n",
    "median = st.median(no_answers)\n",
    "mean = st.mean(no_answers)\n",
    "\n",
    "max_v, min_v = max_min(no_answers)\n",
    "\n",
    "\n",
    "print(\"Statistics for the distribution of number of occurrences of the answer entity in testing documents \\n\")\n",
    "\n",
    "print(\"The range = [\",min_v,\" , \",max_v,\"]\")\n",
    "print(\"The mode = \",mode)\n",
    "print(\"The median =\",median)\n",
    "print(\"The mean =\", mean)"
   ]
  },
  {
   "cell_type": "code",
   "execution_count": 64,
   "metadata": {},
   "outputs": [
    {
     "data": {
      "image/png": "[encoded data removed]",
      "text/plain": [
       "<Figure size 432x288 with 1 Axes>"
      ]
     },
     "metadata": {},
     "output_type": "display_data"
    }
   ],
   "source": [
    "#Generating histogram for the distribution of number of tokens in testing questions\n",
    "\n",
    "fig, ax = plt.subplots()\n",
    "\n",
    "n_bins = 20\n",
    "\n",
    "ax.hist(np.array(ques_lengths), n_bins, histtype='bar')\n",
    "ax.set_xlabel('No. of tokens')\n",
    "ax.set_ylabel('No. of questions')\n",
    "ax.set_title('Histogram for the distribution of number of tokens in testing questions')\n",
    "\n",
    "fig.tight_layout()\n",
    "plt.show()"
   ]
  },
  {
   "cell_type": "code",
   "execution_count": 65,
   "metadata": {},
   "outputs": [
    {
     "name": "stdout",
     "output_type": "stream",
     "text": [
      "Statistics for the distribution of number of tokens in testing questions \n",
      "\n",
      "The range = [ 3  ,  37 ]\n",
      "The mode =  13\n",
      "The median = 13.0\n",
      "The mean = 13.72514071294559\n"
     ]
    }
   ],
   "source": [
    "#Generating statistics for the distribution of number of tokens in testing questions\n",
    "\n",
    "mode = st.mode(ques_lengths)\n",
    "median = st.median(ques_lengths)\n",
    "mean = st.mean(ques_lengths)\n",
    "\n",
    "max_v, min_v = max_min(ques_lengths)\n",
    "\n",
    "\n",
    "print(\"Statistics for the distribution of number of tokens in testing questions \\n\")\n",
    "\n",
    "print(\"The range = [\",min_v,\" , \",max_v,\"]\")\n",
    "print(\"The mode = \",mode)\n",
    "print(\"The median =\",median)\n",
    "print(\"The mean =\", mean)"
   ]
  },
  {
   "cell_type": "code",
   "execution_count": 66,
   "metadata": {},
   "outputs": [
    {
     "data": {
      "image/png": "[encoded data removed]",
      "text/plain": [
       "<Figure size 432x288 with 1 Axes>"
      ]
     },
     "metadata": {},
     "output_type": "display_data"
    }
   ],
   "source": [
    "#Generating histogram for the distribution of number of entities in testing questions\n",
    "\n",
    "fig, ax = plt.subplots()\n",
    "\n",
    "n_bins = 10\n",
    "\n",
    "ax.hist(np.array(ques_entity_numbers), n_bins, histtype='bar')\n",
    "ax.set_xlabel('No. of entities')\n",
    "ax.set_ylabel('No. of questions')\n",
    "ax.set_title('Histogram for the distribution of number of entities in testing questions')\n",
    "\n",
    "fig.tight_layout()\n",
    "plt.show()"
   ]
  },
  {
   "cell_type": "code",
   "execution_count": 67,
   "metadata": {},
   "outputs": [
    {
     "name": "stdout",
     "output_type": "stream",
     "text": [
      "Statistics for the distribution of number of entities in testing questions \n",
      "\n",
      "The range = [ 0  ,  6 ]\n",
      "The mode =  1\n",
      "The median = 1.0\n",
      "The mean = 1.1106941838649156\n"
     ]
    }
   ],
   "source": [
    "#Generating statistics for the distribution of number of entities in testing questions\n",
    "\n",
    "mode = st.mode(ques_entity_numbers)\n",
    "median = st.median(ques_entity_numbers)\n",
    "mean = st.mean(ques_entity_numbers)\n",
    "\n",
    "max_v, min_v = max_min(ques_entity_numbers)\n",
    "\n",
    "\n",
    "print(\"Statistics for the distribution of number of entities in testing questions \\n\")\n",
    "\n",
    "print(\"The range = [\",min_v,\" , \",max_v,\"]\")\n",
    "print(\"The mode = \",mode)\n",
    "print(\"The median =\",median)\n",
    "print(\"The mean =\", mean)"
   ]
  },
  {
   "cell_type": "code",
   "execution_count": null,
   "metadata": {},
   "outputs": [],
   "source": []
  },
  {
   "cell_type": "code",
   "execution_count": null,
   "metadata": {},
   "outputs": [],
   "source": []
  },
  {
   "cell_type": "code",
   "execution_count": null,
   "metadata": {},
   "outputs": [],
   "source": []
  }
 ],
 "metadata": {
  "kernelspec": {
   "display_name": "Python 3",
   "language": "python",
   "name": "python3"
  },
  "language_info": {
   "codemirror_mode": {
    "name": "ipython",
    "version": 3
   },
   "file_extension": ".py",
   "mimetype": "text/x-python",
   "name": "python",
   "nbconvert_exporter": "python",
   "pygments_lexer": "ipython3",
   "version": "3.6.5"
  }
 },
 "nbformat": 4,
 "nbformat_minor": 2
}
